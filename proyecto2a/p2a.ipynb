{
 "cells": [
  {
   "cell_type": "code",
   "execution_count": null,
   "metadata": {},
   "outputs": [],
   "source": [
    "import pandas as pd\n",
    "import seaborn as sns\n",
    "import matplotlib.pyplot as plt\n",
    "\n",
    "# Cargar los datos\n",
    "data = pd.read_csv(\"data.csv\")\n",
    "\n",
    "# Mostrar información general del dataset\n",
    "print(data.info())\n",
    "print(data.describe())\n",
    "\n",
    "# Calcular la matriz de correlación\n",
    "correlation_matrix = data.corr()\n",
    "\n",
    "# Visualizar la matriz de correlación con un heatmap\n",
    "plt.figure(figsize=(10, 6))\n",
    "sns.heatmap(correlation_matrix, annot=True, cmap=\"coolwarm\", fmt=\".2f\", linewidths=0.5)\n",
    "plt.title(\"Matriz de Correlación\")\n",
    "plt.show()\n",
    "\n",
    "# Visualizar la relación de cada variable con AQI\n",
    "for column in data.columns:\n",
    "    if column != \"AQI\":  # Suponiendo que \"AQI\" es la variable objetivo\n",
    "        plt.figure(figsize=(6, 4))\n",
    "        sns.scatterplot(x=data[column], y=data[\"AQI\"])\n",
    "        plt.xlabel(column)\n",
    "        plt.ylabel(\"AQI\")\n",
    "        plt.title(f\"Relación entre {column} y AQI\")\n",
    "        plt.show()\n"
   ]
  }
 ],
 "metadata": {
  "kernelspec": {
   "display_name": "Python 3 (ipykernel)",
   "language": "python",
   "name": "python3"
  }
 },
 "nbformat": 4,
 "nbformat_minor": 2
}
